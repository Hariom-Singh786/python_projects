{
 "cells": [
  {
   "cell_type": "code",
   "execution_count": 1,
   "id": "00d82108",
   "metadata": {},
   "outputs": [
    {
     "name": "stdout",
     "output_type": "stream",
     "text": [
      "Collecting qrcode\n",
      "  Downloading qrcode-7.3.1.tar.gz (43 kB)\n",
      "Requirement already satisfied: colorama in c:\\users\\hari om\\anaconda3\\lib\\site-packages (from qrcode) (0.4.4)\n",
      "Building wheels for collected packages: qrcode\n",
      "  Building wheel for qrcode (setup.py): started\n",
      "  Building wheel for qrcode (setup.py): finished with status 'done'\n",
      "  Created wheel for qrcode: filename=qrcode-7.3.1-py3-none-any.whl size=40401 sha256=150aa59ed612ea9df48f3b117536b86a753c021d9c1300ad9fe776425c865a76\n",
      "  Stored in directory: c:\\users\\hari om\\appdata\\local\\pip\\cache\\wheels\\93\\54\\16\\55cec87f8d902ed84b94ab8fdb7e89ae1158c06e130bc83b03\n",
      "Successfully built qrcode\n",
      "Installing collected packages: qrcode\n",
      "Successfully installed qrcode-7.3.1\n",
      "Note: you may need to restart the kernel to use updated packages.\n"
     ]
    }
   ],
   "source": [
    "pip install qrcode"
   ]
  },
  {
   "cell_type": "code",
   "execution_count": 2,
   "id": "124f3677",
   "metadata": {},
   "outputs": [
    {
     "name": "stdout",
     "output_type": "stream",
     "text": [
      "Collecting image\n",
      "  Downloading image-1.5.33.tar.gz (15 kB)\n",
      "Requirement already satisfied: pillow in c:\\users\\hari om\\anaconda3\\lib\\site-packages (from image) (8.4.0)\n",
      "Collecting django\n",
      "  Downloading Django-4.0.3-py3-none-any.whl (8.0 MB)\n",
      "Requirement already satisfied: six in c:\\users\\hari om\\anaconda3\\lib\\site-packages (from image) (1.16.0)\n",
      "Collecting asgiref<4,>=3.4.1\n",
      "  Downloading asgiref-3.5.0-py3-none-any.whl (22 kB)\n",
      "Collecting tzdata\n",
      "  Downloading tzdata-2021.5-py2.py3-none-any.whl (339 kB)\n",
      "Collecting sqlparse>=0.2.2\n",
      "  Downloading sqlparse-0.4.2-py3-none-any.whl (42 kB)\n",
      "Building wheels for collected packages: image\n",
      "  Building wheel for image (setup.py): started\n",
      "  Building wheel for image (setup.py): finished with status 'done'\n",
      "  Created wheel for image: filename=image-1.5.33-py2.py3-none-any.whl size=19494 sha256=e7e97f8b30ef32c3560447a9e88f6031dd506c3a703c0c03819b85d24b95ef2e\n",
      "  Stored in directory: c:\\users\\hari om\\appdata\\local\\pip\\cache\\wheels\\14\\4c\\7c\\d9b5c35a149d3bc8c72c7e92372913ff7dac9c6bd94bd1b8c9\n",
      "Successfully built image\n",
      "Installing collected packages: tzdata, sqlparse, asgiref, django, image\n",
      "Successfully installed asgiref-3.5.0 django-4.0.3 image-1.5.33 sqlparse-0.4.2 tzdata-2021.5\n",
      "Note: you may need to restart the kernel to use updated packages.\n"
     ]
    }
   ],
   "source": [
    "pip install image"
   ]
  },
  {
   "cell_type": "code",
   "execution_count": 8,
   "id": "718c1f49",
   "metadata": {},
   "outputs": [],
   "source": [
    "import qrcode\n",
    "import image"
   ]
  },
  {
   "cell_type": "code",
   "execution_count": 18,
   "id": "2ac44719",
   "metadata": {},
   "outputs": [],
   "source": [
    "qr=qrcode.QRCode(\n",
    "version =15,\n",
    "    box_size=10,\n",
    "    border=7\n",
    ")\n",
    "data = \"Hello, my name is Hariom and I have created this text into QR code using python :> Hope you'd like it\"\n",
    "\n",
    "qr.add_data(data)\n",
    "qr.make(fit=True)\n",
    "img = qr.make_image(fill='black',back_color='white')\n",
    "img.save('qr.png')"
   ]
  },
  {
   "cell_type": "code",
   "execution_count": null,
   "id": "d0c6efd1",
   "metadata": {},
   "outputs": [],
   "source": []
  }
 ],
 "metadata": {
  "kernelspec": {
   "display_name": "Python 3 (ipykernel)",
   "language": "python",
   "name": "python3"
  },
  "language_info": {
   "codemirror_mode": {
    "name": "ipython",
    "version": 3
   },
   "file_extension": ".py",
   "mimetype": "text/x-python",
   "name": "python",
   "nbconvert_exporter": "python",
   "pygments_lexer": "ipython3",
   "version": "3.9.7"
  }
 },
 "nbformat": 4,
 "nbformat_minor": 5
}
