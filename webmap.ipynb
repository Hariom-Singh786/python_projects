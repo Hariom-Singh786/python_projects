{
 "cells": [
  {
   "cell_type": "code",
   "execution_count": 1,
   "id": "e38d8557",
   "metadata": {},
   "outputs": [
    {
     "name": "stdout",
     "output_type": "stream",
     "text": [
      "Collecting folium\n",
      "  Downloading folium-0.12.1.post1-py2.py3-none-any.whl (95 kB)\n",
      "Collecting branca>=0.3.0\n",
      "  Downloading branca-0.4.2-py3-none-any.whl (24 kB)\n",
      "Requirement already satisfied: numpy in c:\\users\\hari om\\anaconda3\\lib\\site-packages (from folium) (1.20.3)\n",
      "Requirement already satisfied: requests in c:\\users\\hari om\\anaconda3\\lib\\site-packages (from folium) (2.26.0)\n",
      "Requirement already satisfied: jinja2>=2.9 in c:\\users\\hari om\\anaconda3\\lib\\site-packages (from folium) (2.11.3)\n",
      "Requirement already satisfied: MarkupSafe>=0.23 in c:\\users\\hari om\\anaconda3\\lib\\site-packages (from jinja2>=2.9->folium) (1.1.1)\n",
      "Requirement already satisfied: certifi>=2017.4.17 in c:\\users\\hari om\\anaconda3\\lib\\site-packages (from requests->folium) (2021.10.8)\n",
      "Requirement already satisfied: charset-normalizer~=2.0.0 in c:\\users\\hari om\\anaconda3\\lib\\site-packages (from requests->folium) (2.0.4)\n",
      "Requirement already satisfied: urllib3<1.27,>=1.21.1 in c:\\users\\hari om\\anaconda3\\lib\\site-packages (from requests->folium) (1.26.7)\n",
      "Requirement already satisfied: idna<4,>=2.5 in c:\\users\\hari om\\anaconda3\\lib\\site-packages (from requests->folium) (3.2)\n",
      "Installing collected packages: branca, folium\n",
      "Successfully installed branca-0.4.2 folium-0.12.1.post1\n",
      "Note: you may need to restart the kernel to use updated packages.\n"
     ]
    }
   ],
   "source": [
    "pip install folium"
   ]
  },
  {
   "cell_type": "code",
   "execution_count": 2,
   "id": "6883886d",
   "metadata": {},
   "outputs": [
    {
     "name": "stdout",
     "output_type": "stream",
     "text": [
      "Requirement already satisfied: pandas in c:\\users\\hari om\\anaconda3\\lib\\site-packages (1.3.4)\n",
      "Requirement already satisfied: pytz>=2017.3 in c:\\users\\hari om\\anaconda3\\lib\\site-packages (from pandas) (2021.3)\n",
      "Requirement already satisfied: python-dateutil>=2.7.3 in c:\\users\\hari om\\anaconda3\\lib\\site-packages (from pandas) (2.8.2)\n",
      "Requirement already satisfied: numpy>=1.17.3 in c:\\users\\hari om\\anaconda3\\lib\\site-packages (from pandas) (1.20.3)\n",
      "Requirement already satisfied: six>=1.5 in c:\\users\\hari om\\anaconda3\\lib\\site-packages (from python-dateutil>=2.7.3->pandas) (1.16.0)\n",
      "Note: you may need to restart the kernel to use updated packages.\n"
     ]
    }
   ],
   "source": [
    "pip install pandas"
   ]
  },
  {
   "cell_type": "code",
   "execution_count": 18,
   "id": "4ae0f83c",
   "metadata": {},
   "outputs": [],
   "source": [
    "import folium\n",
    "import pandas as pd\n",
    "#parent map"
   ]
  },
  {
   "cell_type": "code",
   "execution_count": 29,
   "id": "ca9e7fea",
   "metadata": {},
   "outputs": [],
   "source": [
    "data = pd.read_excel('iit_data.xlsx')\n",
    "iit_ranking=list(data['IIT Ranking'])\n",
    "college_name=list(data['IIT College'])\n",
    "Nirf_score=list(data['NIRF Score'])\n",
    "lat=list(data['Latitude'])\n",
    "lon=list(data['Longitude'])\n",
    "pic=list(data['Image'])\n",
    "\n",
    "fg = folium.FeatureGroup('map')\n",
    "fg.add_child(folium.GeoJson(data= (open('india_states.json','r',encoding='utf-8-sig').read())))\n",
    "# utf means unicode transformation format\n",
    "# 8 is for 8 bits\n",
    "# sig means signature\n",
    "\n",
    "for rank, name, score,lati,longi,ima in zip(iit_ranking,college_name,Nirf_score,lat,lon,pic):\n",
    "    fg.add_child(folium.Marker(location=[lati,longi],popup =\"<b> College Name : </b> \"+str(name)+\n",
    "                               \"<br><b>Rank among IIT in India : </b>\"+str(rank)+\"<br><b>NIRF Score : </b>\"\n",
    "                               +str(score)+\"<br><img src=\"+ima+\" height =142,width= 290 >\",icon =folium.Icon(color='red')))\n",
    "    \n",
    "\n",
    "map = folium.Map(location = [30.0000,75.0000],zoom_start=4)\n",
    "map.add_child(fg)\n",
    "map.save('final.html')"
   ]
  },
  {
   "cell_type": "code",
   "execution_count": null,
   "id": "53d3da95",
   "metadata": {},
   "outputs": [],
   "source": []
  },
  {
   "cell_type": "code",
   "execution_count": null,
   "id": "8a042304",
   "metadata": {},
   "outputs": [],
   "source": []
  }
 ],
 "metadata": {
  "kernelspec": {
   "display_name": "Python 3 (ipykernel)",
   "language": "python",
   "name": "python3"
  },
  "language_info": {
   "codemirror_mode": {
    "name": "ipython",
    "version": 3
   },
   "file_extension": ".py",
   "mimetype": "text/x-python",
   "name": "python",
   "nbconvert_exporter": "python",
   "pygments_lexer": "ipython3",
   "version": "3.9.7"
  }
 },
 "nbformat": 4,
 "nbformat_minor": 5
}
